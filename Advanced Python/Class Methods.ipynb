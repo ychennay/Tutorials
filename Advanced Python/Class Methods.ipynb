{
 "cells": [
  {
   "cell_type": "markdown",
   "metadata": {},
   "source": [
    "Define a simple class called `Number`, and then implement the following internal methods:\n",
    "- `__repr__`\n",
    "- `__str__`\n",
    "- "
   ]
  },
  {
   "cell_type": "code",
   "execution_count": 1,
   "metadata": {},
   "outputs": [],
   "source": [
    "class Number:\n",
    "    def __init__(self, value: int):\n",
    "        self.value = value"
   ]
  },
  {
   "cell_type": "markdown",
   "metadata": {},
   "source": [
    "By default, since we do not implement a custom `__repr__` function, Python calls its built-in counterpart:"
   ]
  },
  {
   "cell_type": "code",
   "execution_count": 4,
   "metadata": {},
   "outputs": [
    {
     "data": {
      "text/plain": [
       "<__main__.Number at 0x10895dda0>"
      ]
     },
     "execution_count": 4,
     "metadata": {},
     "output_type": "execute_result"
    }
   ],
   "source": [
    "number = Number(5)\n",
    "number"
   ]
  },
  {
   "cell_type": "markdown",
   "metadata": {},
   "source": [
    "In the following implementation, I add in another "
   ]
  },
  {
   "cell_type": "code",
   "execution_count": 22,
   "metadata": {},
   "outputs": [],
   "source": [
    "def str_function(self):\n",
    "    print(\"__str__ called.\")\n",
    "    return f\"Value is {self.value}\"\n",
    "\n",
    "def repr_function(self):\n",
    "    print(\"__repr__ called.\")\n",
    "    return f\"Number with value of {self.value} at {hex(id(self))}\"\n",
    "\n",
    "Number.__str__ = str_function\n",
    "Number.__repr__ = repr_function"
   ]
  },
  {
   "cell_type": "code",
   "execution_count": 23,
   "metadata": {
    "scrolled": false
   },
   "outputs": [
    {
     "name": "stdout",
     "output_type": "stream",
     "text": [
      "__repr__ called.\n"
     ]
    },
    {
     "data": {
      "text/plain": [
       "Number with value of 5 at 0x108b2c4a8"
      ]
     },
     "execution_count": 23,
     "metadata": {},
     "output_type": "execute_result"
    }
   ],
   "source": [
    "number = Number(5)\n",
    "number"
   ]
  },
  {
   "cell_type": "markdown",
   "metadata": {},
   "source": [
    "However, notice the difference between `__str__` and `__repr__`:"
   ]
  },
  {
   "cell_type": "code",
   "execution_count": 24,
   "metadata": {},
   "outputs": [
    {
     "name": "stdout",
     "output_type": "stream",
     "text": [
      "__str__ called.\n",
      "Value is 5\n"
     ]
    }
   ],
   "source": [
    "print(number)"
   ]
  },
  {
   "cell_type": "markdown",
   "metadata": {},
   "source": [
    "### `__add__` method"
   ]
  },
  {
   "cell_type": "code",
   "execution_count": 33,
   "metadata": {},
   "outputs": [],
   "source": [
    "def add_function(self, new_value):\n",
    "    print(\"__add__ called.\")\n",
    "    # check that the new value being passed in is either a Number or an integer\n",
    "    assert isinstance(new_value, Number) or type(new_value) == int\n",
    "    return (Number(self.value + new_value) if type(new_value) == int else \n",
    "            Number(self.value + new_value.value))\n",
    "Number.__add__ = add_function"
   ]
  },
  {
   "cell_type": "code",
   "execution_count": 36,
   "metadata": {},
   "outputs": [
    {
     "name": "stdout",
     "output_type": "stream",
     "text": [
      "__add__ called.\n",
      "__str__ called.\n",
      "Value is 10\n",
      "__add__ called.\n",
      "__str__ called.\n",
      "Value is 8\n"
     ]
    }
   ],
   "source": [
    "print(number + Number(5))\n",
    "print(number + 3)"
   ]
  },
  {
   "cell_type": "code",
   "execution_count": null,
   "metadata": {},
   "outputs": [],
   "source": []
  }
 ],
 "metadata": {
  "kernelspec": {
   "display_name": "Python 3",
   "language": "python",
   "name": "python3"
  },
  "language_info": {
   "codemirror_mode": {
    "name": "ipython",
    "version": 3
   },
   "file_extension": ".py",
   "mimetype": "text/x-python",
   "name": "python",
   "nbconvert_exporter": "python",
   "pygments_lexer": "ipython3",
   "version": "3.6.4"
  }
 },
 "nbformat": 4,
 "nbformat_minor": 2
}
