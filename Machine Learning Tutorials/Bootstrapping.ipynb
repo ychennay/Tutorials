{
 "cells": [
  {
   "cell_type": "code",
   "execution_count": 30,
   "metadata": {},
   "outputs": [],
   "source": [
    "import numpy as np"
   ]
  },
  {
   "cell_type": "markdown",
   "metadata": {},
   "source": [
    "We first generate a bunch of numbers to play with- in this case, a range from 0 to 19."
   ]
  },
  {
   "cell_type": "code",
   "execution_count": 33,
   "metadata": {},
   "outputs": [
    {
     "name": "stdout",
     "output_type": "stream",
     "text": [
      "The data has a mean of 9.5 and a variance of 33.25.\n"
     ]
    }
   ],
   "source": [
    "data = list(range(20))\n",
    "print(f\"The data has a mean of {np.mean(data)} and a \\\n",
    "variance of {np.var(data)}.\")"
   ]
  },
  {
   "cell_type": "code",
   "execution_count": 34,
   "metadata": {},
   "outputs": [],
   "source": [
    "BOOTSTRAP_SAMPLES = 10 # the number of resamples to generate\n",
    "SAMPLE_SIZE = 10 # the number of samples per resample"
   ]
  },
  {
   "cell_type": "markdown",
   "metadata": {},
   "source": [
    "$E({\\bar{\\theta_{B}}})$ is defined as the expected value of the **resampled data**, with $B$ defined as the number of resamples generated.\n",
    "\n",
    "If there is no bias in the sampling (the algorithm or human has a preference for picking smaller numbers, for instance), then **$E({\\bar{\\theta_{B}}}) = \\theta$**. In other words, the sample mean equals the mean of the data.\n",
    "\n",
    "How do we know this? Well, we know that $E({\\bar{\\theta_{B}}}) = E\\{\\sum_{i=0}^{B}{\\frac{1}{B}\\hat{\\theta_{i}}}\\}$.\n",
    "\n",
    "If each of the $\\hat{\\theta_{i}}$ estimates has been arrived at with no bias in sampling, then we know it should equal $\\theta$. Thus, we can rewrite this to $ \\frac{1}{B}BE[\\hat{\\theta_{i}}]$. This cancels out to $E[\\hat{\\theta_{i}}]$."
   ]
  },
  {
   "cell_type": "code",
   "execution_count": 35,
   "metadata": {},
   "outputs": [
    {
     "name": "stdout",
     "output_type": "stream",
     "text": [
      "[17 12 17 14 14  5 11 17  2 10]\n",
      "[ 1  2 16  4  2 19 13  3  5 15]\n",
      "[ 8 12 10 12 10 17 19  4  6  5]\n",
      "[17  7  4 17 16 14  5 17  3 10]\n",
      "[16  9 12 13 19  3  9 16  5  8]\n",
      "[14  1 13  7  9 11  8 13 11 16]\n",
      "[ 1 11 13  3 11 15  8  6  0 17]\n",
      "[ 6  5 16 12 13 14  7 12  8 12]\n",
      "[15 11 19 11  2  1 16 15 12  4]\n",
      "[19  8 14  8  3 16  8 19  5 19]\n"
     ]
    }
   ],
   "source": [
    "for i in range(BOOTSTRAP_SAMPLES):\n",
    "    print(np.random.choice(data, SAMPLE_SIZE, replace=True))"
   ]
  },
  {
   "cell_type": "markdown",
   "metadata": {},
   "source": [
    "Because we set `replace=True`, we sample **with replacement**. This means that the algorithm picks a number from `data`, records the result, and places that number back into the pool of numbers to choose from. Thus, **we are able to get identical numbers in the resampled set**."
   ]
  },
  {
   "cell_type": "code",
   "execution_count": null,
   "metadata": {},
   "outputs": [],
   "source": []
  }
 ],
 "metadata": {
  "kernelspec": {
   "display_name": "Python 3",
   "language": "python",
   "name": "python3"
  },
  "language_info": {
   "codemirror_mode": {
    "name": "ipython",
    "version": 3
   },
   "file_extension": ".py",
   "mimetype": "text/x-python",
   "name": "python",
   "nbconvert_exporter": "python",
   "pygments_lexer": "ipython3",
   "version": "3.6.3"
  }
 },
 "nbformat": 4,
 "nbformat_minor": 2
}
