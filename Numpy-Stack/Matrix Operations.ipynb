{
 "cells": [
  {
   "cell_type": "markdown",
   "metadata": {},
   "source": [
    "# Matrix and Vector Operations"
   ]
  },
  {
   "cell_type": "code",
   "execution_count": 29,
   "metadata": {
    "collapsed": true
   },
   "outputs": [],
   "source": [
    "import numpy as np\n",
    "from datetime import datetime"
   ]
  },
  {
   "cell_type": "markdown",
   "metadata": {},
   "source": [
    "## Basic Operations"
   ]
  },
  {
   "cell_type": "code",
   "execution_count": 6,
   "metadata": {},
   "outputs": [],
   "source": [
    "M = np.array([[1,2],[3,4]])\n",
    "L = [[1,2],[3,4]]"
   ]
  },
  {
   "cell_type": "code",
   "execution_count": 10,
   "metadata": {},
   "outputs": [],
   "source": [
    "assert L[0][0] == M[0][0]\n"
   ]
  },
  {
   "cell_type": "markdown",
   "metadata": {},
   "source": [
    "Create an array of 10 zeros:"
   ]
  },
  {
   "cell_type": "code",
   "execution_count": 8,
   "metadata": {},
   "outputs": [
    {
     "data": {
      "text/plain": [
       "1"
      ]
     },
     "execution_count": 8,
     "metadata": {},
     "output_type": "execute_result"
    }
   ],
   "source": [
    "np.zeros(10)"
   ]
  },
  {
   "cell_type": "markdown",
   "metadata": {},
   "source": [
    "Create an array of 10 ones:"
   ]
  },
  {
   "cell_type": "code",
   "execution_count": 12,
   "metadata": {},
   "outputs": [
    {
     "data": {
      "text/plain": [
       "array([ 1.,  1.,  1.,  1.,  1.,  1.,  1.,  1.,  1.,  1.])"
      ]
     },
     "execution_count": 12,
     "metadata": {},
     "output_type": "execute_result"
    }
   ],
   "source": [
    "np.ones(10)"
   ]
  },
  {
   "cell_type": "markdown",
   "metadata": {},
   "source": [
    "Create an array of 10 x 10 ones:"
   ]
  },
  {
   "cell_type": "code",
   "execution_count": 13,
   "metadata": {},
   "outputs": [
    {
     "data": {
      "text/plain": [
       "array([[ 1.,  1.,  1.,  1.,  1.,  1.,  1.,  1.,  1.,  1.],\n",
       "       [ 1.,  1.,  1.,  1.,  1.,  1.,  1.,  1.,  1.,  1.],\n",
       "       [ 1.,  1.,  1.,  1.,  1.,  1.,  1.,  1.,  1.,  1.],\n",
       "       [ 1.,  1.,  1.,  1.,  1.,  1.,  1.,  1.,  1.,  1.],\n",
       "       [ 1.,  1.,  1.,  1.,  1.,  1.,  1.,  1.,  1.,  1.],\n",
       "       [ 1.,  1.,  1.,  1.,  1.,  1.,  1.,  1.,  1.,  1.],\n",
       "       [ 1.,  1.,  1.,  1.,  1.,  1.,  1.,  1.,  1.,  1.],\n",
       "       [ 1.,  1.,  1.,  1.,  1.,  1.,  1.,  1.,  1.,  1.],\n",
       "       [ 1.,  1.,  1.,  1.,  1.,  1.,  1.,  1.,  1.,  1.],\n",
       "       [ 1.,  1.,  1.,  1.,  1.,  1.,  1.,  1.,  1.,  1.]])"
      ]
     },
     "execution_count": 13,
     "metadata": {},
     "output_type": "execute_result"
    }
   ],
   "source": [
    "np.ones((10,10))"
   ]
  },
  {
   "cell_type": "markdown",
   "metadata": {},
   "source": [
    "Create an array of 5 x 5 uniformly distributed numbers:"
   ]
  },
  {
   "cell_type": "code",
   "execution_count": 15,
   "metadata": {},
   "outputs": [
    {
     "data": {
      "text/plain": [
       "array([[ 0.95886113,  0.75395694,  0.66439159,  0.63904281,  0.54576073],\n",
       "       [ 0.30569077,  0.93624409,  0.63376513,  0.35927285,  0.56314516],\n",
       "       [ 0.68646356,  0.6444342 ,  0.10702781,  0.50165984,  0.2266222 ],\n",
       "       [ 0.24237787,  0.82315587,  0.43784844,  0.78961121,  0.55610346],\n",
       "       [ 0.12921927,  0.47553004,  0.57369418,  0.4474111 ,  0.45041097]])"
      ]
     },
     "execution_count": 15,
     "metadata": {},
     "output_type": "execute_result"
    }
   ],
   "source": [
    "np.random.random((5,5))"
   ]
  },
  {
   "cell_type": "markdown",
   "metadata": {},
   "source": [
    "Create an array of 5 x 5 noramlly distributed numbers:"
   ]
  },
  {
   "cell_type": "code",
   "execution_count": 17,
   "metadata": {},
   "outputs": [
    {
     "data": {
      "text/plain": [
       "array([[-0.12708895, -0.09625825,  1.29406283,  0.88251628,  1.2998236 ],\n",
       "       [ 1.57880319,  0.66623863,  0.16108012,  1.5754845 , -1.49223835],\n",
       "       [ 1.0732082 ,  1.29761126, -1.15479183, -0.30683734, -1.18654531],\n",
       "       [-0.59057681, -1.23386525, -1.00966871,  0.29275444, -0.43310669],\n",
       "       [-0.81904721, -1.25788552, -0.06588317, -0.79677126, -0.24663087]])"
      ]
     },
     "execution_count": 17,
     "metadata": {},
     "output_type": "execute_result"
    }
   ],
   "source": [
    "np.random.randn(5,5)"
   ]
  },
  {
   "cell_type": "markdown",
   "metadata": {},
   "source": [
    "Multiply element-wise two 4 x 2 matrices together:"
   ]
  },
  {
   "cell_type": "code",
   "execution_count": 18,
   "metadata": {},
   "outputs": [
    {
     "data": {
      "text/plain": [
       "array([[-2.49878041,  0.49667616],\n",
       "       [ 0.28132226, -0.52295142],\n",
       "       [ 0.034052  , -0.30021812],\n",
       "       [-0.00410769,  0.03753431]])"
      ]
     },
     "execution_count": 18,
     "metadata": {},
     "output_type": "execute_result"
    }
   ],
   "source": [
    "np.random.randn(4,2) * np.random.randn(4,2)"
   ]
  },
  {
   "cell_type": "markdown",
   "metadata": {},
   "source": [
    "However, this doesn't work if you attempt to multiple the dot product together:"
   ]
  },
  {
   "cell_type": "code",
   "execution_count": 19,
   "metadata": {},
   "outputs": [
    {
     "ename": "ValueError",
     "evalue": "shapes (4,2) and (4,2) not aligned: 2 (dim 1) != 4 (dim 0)",
     "output_type": "error",
     "traceback": [
      "\u001b[0;31m---------------------------------------------------------------------------\u001b[0m",
      "\u001b[0;31mValueError\u001b[0m                                Traceback (most recent call last)",
      "\u001b[0;32m<ipython-input-19-7769f9a7d864>\u001b[0m in \u001b[0;36m<module>\u001b[0;34m()\u001b[0m\n\u001b[0;32m----> 1\u001b[0;31m \u001b[0mnp\u001b[0m\u001b[0;34m.\u001b[0m\u001b[0mdot\u001b[0m\u001b[0;34m(\u001b[0m\u001b[0mnp\u001b[0m\u001b[0;34m.\u001b[0m\u001b[0mrandom\u001b[0m\u001b[0;34m.\u001b[0m\u001b[0mrandn\u001b[0m\u001b[0;34m(\u001b[0m\u001b[0;36m4\u001b[0m\u001b[0;34m,\u001b[0m\u001b[0;36m2\u001b[0m\u001b[0;34m)\u001b[0m\u001b[0;34m,\u001b[0m \u001b[0mnp\u001b[0m\u001b[0;34m.\u001b[0m\u001b[0mrandom\u001b[0m\u001b[0;34m.\u001b[0m\u001b[0mrandn\u001b[0m\u001b[0;34m(\u001b[0m\u001b[0;36m4\u001b[0m\u001b[0;34m,\u001b[0m\u001b[0;36m2\u001b[0m\u001b[0;34m)\u001b[0m\u001b[0;34m)\u001b[0m\u001b[0;34m\u001b[0m\u001b[0m\n\u001b[0m",
      "\u001b[0;31mValueError\u001b[0m: shapes (4,2) and (4,2) not aligned: 2 (dim 1) != 4 (dim 0)"
     ]
    }
   ],
   "source": [
    "np.dot(np.random.randn(4,2), np.random.randn(4,2))"
   ]
  },
  {
   "cell_type": "markdown",
   "metadata": {},
   "source": [
    "You can, however, transpose the second matrix to conduct dot product multiplcation:"
   ]
  },
  {
   "cell_type": "code",
   "execution_count": 20,
   "metadata": {},
   "outputs": [
    {
     "data": {
      "text/plain": [
       "array([[ -2.29762017e+00,   4.10010440e-01,  -3.26599498e+00,\n",
       "         -1.34670355e+00],\n",
       "       [ -2.50297806e-02,  -2.03079436e-03,   9.42184453e-02,\n",
       "         -5.72629025e-02],\n",
       "       [  4.98975234e+00,  -8.32505090e-01,   5.93578130e+00,\n",
       "          3.30430273e+00],\n",
       "       [  4.12494364e+00,  -6.94982915e-01,   5.04215538e+00,\n",
       "          2.68726387e+00]])"
      ]
     },
     "execution_count": 20,
     "metadata": {},
     "output_type": "execute_result"
    }
   ],
   "source": [
    "A = np.random.randn(4,2)\n",
    "B = np.random.randn(4,2)\n",
    "\n",
    "C = np.dot(A, B.T)"
   ]
  },
  {
   "cell_type": "markdown",
   "metadata": {},
   "source": [
    "## Solving a Linear System"
   ]
  },
  {
   "cell_type": "markdown",
   "metadata": {},
   "source": [
    "We are attempting to solve for $x$ in the following equation:\n",
    "\n",
    "\\begin{equation}\n",
    "Ax = B\n",
    "\\end{equation}\n",
    "\n",
    "The first thing we'll do is to multiply the inverse of $A$ on both sides.\n",
    "\n",
    "\\begin{equation}\n",
    "A^{-1}Ax = A^{-1}B\n",
    "\\end{equation}"
   ]
  },
  {
   "cell_type": "code",
   "execution_count": 26,
   "metadata": {},
   "outputs": [
    {
     "data": {
      "text/plain": [
       "array([[ 2.30862421, -0.30557336],\n",
       "       [ 1.15786754,  0.08031649],\n",
       "       [-4.67004227, -0.27130516],\n",
       "       [ 2.52921365,  0.07093559],\n",
       "       [ 2.25518559, -0.04072269],\n",
       "       [-0.38726799, -1.07289578],\n",
       "       [ 0.6289396 , -0.91656997],\n",
       "       [-3.29792535,  0.45252332],\n",
       "       [ 2.37130048,  0.25784228],\n",
       "       [-1.03709568, -0.12186669]])"
      ]
     },
     "execution_count": 26,
     "metadata": {},
     "output_type": "execute_result"
    }
   ],
   "source": [
    "A = np.random.randn(10,10)\n",
    "B = np.random.random((10,2))\n",
    "\n",
    "A_inv = np.linalg.inv(A)\n",
    "\n",
    "x = np.linalg.inv(A).dot(B)\n",
    "x"
   ]
  },
  {
   "cell_type": "markdown",
   "metadata": {},
   "source": [
    "You can also use numpy's own `np.linalg.solve()` method. In fact, this is considered preferable:"
   ]
  },
  {
   "cell_type": "code",
   "execution_count": 28,
   "metadata": {},
   "outputs": [
    {
     "data": {
      "text/plain": [
       "array([[ 2.30862421, -0.30557336],\n",
       "       [ 1.15786754,  0.08031649],\n",
       "       [-4.67004227, -0.27130516],\n",
       "       [ 2.52921365,  0.07093559],\n",
       "       [ 2.25518559, -0.04072269],\n",
       "       [-0.38726799, -1.07289578],\n",
       "       [ 0.6289396 , -0.91656997],\n",
       "       [-3.29792535,  0.45252332],\n",
       "       [ 2.37130048,  0.25784228],\n",
       "       [-1.03709568, -0.12186669]])"
      ]
     },
     "execution_count": 28,
     "metadata": {},
     "output_type": "execute_result"
    }
   ],
   "source": [
    "np.linalg.solve(A, B)"
   ]
  },
  {
   "cell_type": "markdown",
   "metadata": {},
   "source": [
    "You can see that the runtime for `np.linalg.solve()` is less than that of the manual `np.linalg.inv()` and `np.linalg.dot()` functions."
   ]
  },
  {
   "cell_type": "code",
   "execution_count": 34,
   "metadata": {},
   "outputs": [
    {
     "name": "stdout",
     "output_type": "stream",
     "text": [
      "Numpy solve: 0:00:00.193862\n"
     ]
    }
   ],
   "source": [
    "T = 10000\n",
    "start = datetime.now()\n",
    "for i in range(T):\n",
    "    np.linalg.solve(A,B)\n",
    "    \n",
    "print(\"Numpy solve: {}\".format(datetime.now() - start))"
   ]
  },
  {
   "cell_type": "code",
   "execution_count": 35,
   "metadata": {},
   "outputs": [
    {
     "name": "stdout",
     "output_type": "stream",
     "text": [
      "Using inverse and dot product: 0:00:00.329607\n"
     ]
    }
   ],
   "source": [
    "start = datetime.now()\n",
    "for i in range(T):\n",
    "    A_inv = np.linalg.inv(A)\n",
    "    np.linalg.inv(A).dot(B)\n",
    "\n",
    "print(\"Using inverse and dot product: {}\".format(datetime.now() - start))"
   ]
  },
  {
   "cell_type": "markdown",
   "metadata": {},
   "source": [
    "## Solving Word Problems Using Numpy"
   ]
  },
  {
   "cell_type": "markdown",
   "metadata": {},
   "source": [
    "The unit cost of a small Toyota is **\\$15,000**. The unit cost of a truck is **\\$42,000**. If a total of 11 cars were sold and a revenue of **\\$435,000** was generated, how many cars of each type were sold? \n",
    "\n",
    "This can be represented as a system of equations:\n",
    "\n",
    "\n",
    "\\begin{equation}\n",
    "X_1 + X_2 = 11\n",
    "\\end{equation}\n",
    "\\begin{equation}\n",
    "15000X_1 + 42000X_2 = 435000\n",
    "\\end{equation}\n",
    "\n",
    "\\begin{bmatrix}\n",
    "    1 & 1 \\\\\n",
    "    15000 & 42000 \\\\\n",
    "\\end{bmatrix}\n",
    "\n",
    "This is multiplied with\n",
    "\n",
    "\\begin{bmatrix}\n",
    "    x_1 \\\\\n",
    "    x_2 \\\\\n",
    "\\end{bmatrix}\n",
    "\n",
    "In order to obtain\n",
    "\n",
    "\\begin{bmatrix}\n",
    "    11 \\\\\n",
    "    435000 \\\\\n",
    "\\end{bmatrix}"
   ]
  },
  {
   "cell_type": "code",
   "execution_count": 39,
   "metadata": {},
   "outputs": [],
   "source": [
    "A = np.array([[1,1], [15000, 42000]])\n",
    "B = np.array([[11], [435000]])"
   ]
  },
  {
   "cell_type": "code",
   "execution_count": 53,
   "metadata": {},
   "outputs": [
    {
     "name": "stdout",
     "output_type": "stream",
     "text": [
      "There were 1.0 Toyotas and 10.0 trucks sold.\n"
     ]
    }
   ],
   "source": [
    "x = np.linalg.solve(A, B)\n",
    "x = x.flatten()\n",
    "print(\"There were {} Toyotas and {} trucks sold.\".format(x[0], x[1]))"
   ]
  },
  {
   "cell_type": "code",
   "execution_count": null,
   "metadata": {
    "collapsed": true
   },
   "outputs": [],
   "source": []
  }
 ],
 "metadata": {
  "kernelspec": {
   "display_name": "Python 2",
   "language": "python",
   "name": "python2"
  },
  "language_info": {
   "codemirror_mode": {
    "name": "ipython",
    "version": 2
   },
   "file_extension": ".py",
   "mimetype": "text/x-python",
   "name": "python",
   "nbconvert_exporter": "python",
   "pygments_lexer": "ipython2",
   "version": "2.7.13"
  }
 },
 "nbformat": 4,
 "nbformat_minor": 2
}
